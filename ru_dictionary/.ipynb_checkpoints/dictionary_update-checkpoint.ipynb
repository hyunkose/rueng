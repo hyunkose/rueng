{
 "cells": [
  {
   "cell_type": "code",
   "execution_count": 1,
   "id": "a481d037",
   "metadata": {},
   "outputs": [],
   "source": [
    "## crawler\n",
    "import ru_dictionary_parser\n",
    "\n",
    "from selenium import webdriver\n",
    "from selenium.webdriver.common.by import By\n",
    "from selenium.webdriver.support.ui import WebDriverWait\n",
    "from selenium.webdriver.support import expected_conditions as EC \n",
    "from selenium.webdriver.common.action_chains import ActionChains\n",
    "from selenium.webdriver.common.keys import Keys\n",
    "from selenium.common.exceptions import ElementNotInteractableException\n",
    "\n",
    "import pandas as pd"
   ]
  },
  {
   "cell_type": "markdown",
   "id": "4e8064a6",
   "metadata": {},
   "source": [
    "## 1. crawl openrussian dictionary"
   ]
  },
  {
   "cell_type": "code",
   "execution_count": 2,
   "id": "ab93baca",
   "metadata": {},
   "outputs": [],
   "source": [
    "url_list = [\"https://en.openrussian.org/list/all\"+'/?start='+str(page_num) for page_num in range(50,90050,50)]\n",
    "url_list.insert(0,\"https://en.openrussian.org/list/all\")"
   ]
  },
  {
   "cell_type": "code",
   "execution_count": null,
   "id": "f0779ceb",
   "metadata": {},
   "outputs": [],
   "source": [
    "## getting word lists\n",
    "word_links_list = []\n",
    "\n",
    "## click next page\n",
    "options = webdriver.ChromeOptions()\n",
    "driver = webdriver.Chrome(options=options)\n",
    "\n",
    "for main_url in url_list:\n",
    "    driver.get(main_url)\n",
    "\n",
    "    anchor_tags = driver.find_elements(By.CSS_SELECTOR,'table a')\n",
    "    word_links = [a.get_attribute('href') for a in anchor_tags]\n",
    "    word_links_list.extend(word_links)\n",
    "\n",
    "driver.close()"
   ]
  },
  {
   "cell_type": "code",
   "execution_count": 4,
   "id": "54abf090",
   "metadata": {},
   "outputs": [
    {
     "name": "stderr",
     "output_type": "stream",
     "text": [
      "  0% |                                                                        |\r"
     ]
    },
    {
     "ename": "IndexError",
     "evalue": "list index out of range",
     "output_type": "error",
     "traceback": [
      "\u001b[1;31m---------------------------------------------------------------------------\u001b[0m",
      "\u001b[1;31mIndexError\u001b[0m                                Traceback (most recent call last)",
      "Cell \u001b[1;32mIn[4], line 2\u001b[0m\n\u001b[0;32m      1\u001b[0m \u001b[38;5;66;03m## get word data\u001b[39;00m\n\u001b[1;32m----> 2\u001b[0m word_data \u001b[38;5;241m=\u001b[39m ru_dictionary_parser\u001b[38;5;241m.\u001b[39mword_parser(word_links_list)\n",
      "File \u001b[1;32m~\\Desktop\\rueng\\ru_dictionary\\ru_dictionary_parser.py:96\u001b[0m, in \u001b[0;36mword_parser\u001b[1;34m(word_links)\u001b[0m\n\u001b[0;32m     80\u001b[0m     short_form_list \u001b[38;5;241m=\u001b[39m [s\u001b[38;5;241m.\u001b[39mtext \u001b[38;5;28;01mfor\u001b[39;00m s \u001b[38;5;129;01min\u001b[39;00m short_forms]\n\u001b[0;32m     82\u001b[0m     declension_list \u001b[38;5;241m=\u001b[39m [d \u001b[38;5;28;01mfor\u001b[39;00m d \u001b[38;5;129;01min\u001b[39;00m declension_list \u001b[38;5;28;01mif\u001b[39;00m \u001b[38;5;28mlen\u001b[39m(d) \u001b[38;5;241m>\u001b[39m \u001b[38;5;241m0\u001b[39m]\n\u001b[0;32m     84\u001b[0m declension_contents \u001b[38;5;241m=\u001b[39m [\n\u001b[0;32m     85\u001b[0m     (idx,\u001b[38;5;124m'\u001b[39m\u001b[38;5;124mmasculine_nominative\u001b[39m\u001b[38;5;124m'\u001b[39m, declension_list[\u001b[38;5;241m0\u001b[39m][\u001b[38;5;241m0\u001b[39m]\u001b[38;5;241m.\u001b[39mtext),\n\u001b[0;32m     86\u001b[0m     (idx,\u001b[38;5;124m'\u001b[39m\u001b[38;5;124mfeminine_nominative\u001b[39m\u001b[38;5;124m'\u001b[39m, declension_list[\u001b[38;5;241m1\u001b[39m][\u001b[38;5;241m0\u001b[39m]\u001b[38;5;241m.\u001b[39mtext),\n\u001b[0;32m     87\u001b[0m     (idx,\u001b[38;5;124m'\u001b[39m\u001b[38;5;124mneuter_nominative\u001b[39m\u001b[38;5;124m'\u001b[39m, declension_list[\u001b[38;5;241m2\u001b[39m][\u001b[38;5;241m0\u001b[39m]\u001b[38;5;241m.\u001b[39mtext),\n\u001b[0;32m     88\u001b[0m     (idx,\u001b[38;5;124m'\u001b[39m\u001b[38;5;124mnominative_plural\u001b[39m\u001b[38;5;124m'\u001b[39m, declension_list[\u001b[38;5;241m3\u001b[39m][\u001b[38;5;241m0\u001b[39m]\u001b[38;5;241m.\u001b[39mtext),\n\u001b[0;32m     89\u001b[0m     (idx,\u001b[38;5;124m'\u001b[39m\u001b[38;5;124mgenitive_masculine_neuter\u001b[39m\u001b[38;5;124m'\u001b[39m, declension_list[\u001b[38;5;241m4\u001b[39m][\u001b[38;5;241m0\u001b[39m]\u001b[38;5;241m.\u001b[39mtext),\n\u001b[0;32m     90\u001b[0m     (idx,\u001b[38;5;124m'\u001b[39m\u001b[38;5;124mfeminine_genitive\u001b[39m\u001b[38;5;124m'\u001b[39m, declension_list[\u001b[38;5;241m5\u001b[39m][\u001b[38;5;241m0\u001b[39m]\u001b[38;5;241m.\u001b[39mtext),\n\u001b[0;32m     91\u001b[0m     (idx,\u001b[38;5;124m'\u001b[39m\u001b[38;5;124mgenitive_plural\u001b[39m\u001b[38;5;124m'\u001b[39m, declension_list[\u001b[38;5;241m7\u001b[39m][\u001b[38;5;241m0\u001b[39m]\u001b[38;5;241m.\u001b[39mtext),\n\u001b[0;32m     92\u001b[0m     (idx,\u001b[38;5;124m'\u001b[39m\u001b[38;5;124mdative_masculine_neuter\u001b[39m\u001b[38;5;124m'\u001b[39m, declension_list[\u001b[38;5;241m8\u001b[39m][\u001b[38;5;241m0\u001b[39m]\u001b[38;5;241m.\u001b[39mtext),\n\u001b[0;32m     93\u001b[0m     (idx,\u001b[38;5;124m'\u001b[39m\u001b[38;5;124mdative_feminine\u001b[39m\u001b[38;5;124m'\u001b[39m, declension_list[\u001b[38;5;241m9\u001b[39m][\u001b[38;5;241m0\u001b[39m]\u001b[38;5;241m.\u001b[39mtext),\n\u001b[0;32m     94\u001b[0m     (idx,\u001b[38;5;124m'\u001b[39m\u001b[38;5;124mdative_plural\u001b[39m\u001b[38;5;124m'\u001b[39m, declension_list[\u001b[38;5;241m11\u001b[39m][\u001b[38;5;241m0\u001b[39m]\u001b[38;5;241m.\u001b[39mtext),\n\u001b[0;32m     95\u001b[0m     (idx,\u001b[38;5;124m'\u001b[39m\u001b[38;5;124maccusative_inanimate_masculine\u001b[39m\u001b[38;5;124m'\u001b[39m, declension_list[\u001b[38;5;241m12\u001b[39m][\u001b[38;5;241m0\u001b[39m]\u001b[38;5;241m.\u001b[39mtext),\n\u001b[1;32m---> 96\u001b[0m     (idx,\u001b[38;5;124m'\u001b[39m\u001b[38;5;124maccusative_animate_masculine\u001b[39m\u001b[38;5;124m'\u001b[39m, declension_list[\u001b[38;5;241m12\u001b[39m][\u001b[38;5;241m1\u001b[39m]\u001b[38;5;241m.\u001b[39mtext),\n\u001b[0;32m     97\u001b[0m     (idx,\u001b[38;5;124m'\u001b[39m\u001b[38;5;124maccusative_feminine\u001b[39m\u001b[38;5;124m'\u001b[39m, declension_list[\u001b[38;5;241m13\u001b[39m][\u001b[38;5;241m0\u001b[39m]\u001b[38;5;241m.\u001b[39mtext),\n\u001b[0;32m     98\u001b[0m     (idx,\u001b[38;5;124m'\u001b[39m\u001b[38;5;124maccusative_neuter\u001b[39m\u001b[38;5;124m'\u001b[39m, declension_list[\u001b[38;5;241m14\u001b[39m][\u001b[38;5;241m0\u001b[39m]\u001b[38;5;241m.\u001b[39mtext),\n\u001b[0;32m     99\u001b[0m     (idx,\u001b[38;5;124m'\u001b[39m\u001b[38;5;124maccusative_animate_plural\u001b[39m\u001b[38;5;124m'\u001b[39m, declension_list[\u001b[38;5;241m15\u001b[39m][\u001b[38;5;241m1\u001b[39m]\u001b[38;5;241m.\u001b[39mtext),\n\u001b[0;32m    100\u001b[0m     (idx,\u001b[38;5;124m'\u001b[39m\u001b[38;5;124minstrumental_masculine_neuter\u001b[39m\u001b[38;5;124m'\u001b[39m, declension_list[\u001b[38;5;241m16\u001b[39m][\u001b[38;5;241m0\u001b[39m]\u001b[38;5;241m.\u001b[39mtext),\n\u001b[0;32m    101\u001b[0m     (idx,\u001b[38;5;124m'\u001b[39m\u001b[38;5;124mfeminine_instrumental\u001b[39m\u001b[38;5;124m'\u001b[39m, declension_list[\u001b[38;5;241m17\u001b[39m][\u001b[38;5;241m0\u001b[39m]\u001b[38;5;241m.\u001b[39mtext),\n\u001b[0;32m    102\u001b[0m     (idx,\u001b[38;5;124m'\u001b[39m\u001b[38;5;124minstrumental_plural\u001b[39m\u001b[38;5;124m'\u001b[39m, declension_list[\u001b[38;5;241m19\u001b[39m][\u001b[38;5;241m0\u001b[39m]\u001b[38;5;241m.\u001b[39mtext),\n\u001b[0;32m    103\u001b[0m     (idx,\u001b[38;5;124m'\u001b[39m\u001b[38;5;124mfeminine_prepositional\u001b[39m\u001b[38;5;124m'\u001b[39m, declension_list[\u001b[38;5;241m21\u001b[39m][\u001b[38;5;241m0\u001b[39m]\u001b[38;5;241m.\u001b[39mtext),\n\u001b[0;32m    104\u001b[0m     (idx,\u001b[38;5;124m'\u001b[39m\u001b[38;5;124mmasculine_neuter_prepositional\u001b[39m\u001b[38;5;124m'\u001b[39m, declension_list[\u001b[38;5;241m22\u001b[39m][\u001b[38;5;241m0\u001b[39m]\u001b[38;5;241m.\u001b[39mtext),\n\u001b[0;32m    105\u001b[0m     (idx,\u001b[38;5;124m'\u001b[39m\u001b[38;5;124mplural_prepositional\u001b[39m\u001b[38;5;124m'\u001b[39m, declension_list[\u001b[38;5;241m23\u001b[39m][\u001b[38;5;241m0\u001b[39m]\u001b[38;5;241m.\u001b[39mtext),\n\u001b[0;32m    106\u001b[0m ]\n\u001b[0;32m    108\u001b[0m \u001b[38;5;28;01mif\u001b[39;00m \u001b[38;5;28mlen\u001b[39m(short_form_list) \u001b[38;5;241m>\u001b[39m \u001b[38;5;241m0\u001b[39m:\n\u001b[0;32m    109\u001b[0m     declension_contents\u001b[38;5;241m.\u001b[39mextend(\n\u001b[0;32m    110\u001b[0m         [(idx,\u001b[38;5;124m'\u001b[39m\u001b[38;5;124mmasculine_short-form\u001b[39m\u001b[38;5;124m'\u001b[39m, short_form_list[\u001b[38;5;241m0\u001b[39m]),\n\u001b[0;32m    111\u001b[0m         (idx,\u001b[38;5;124m'\u001b[39m\u001b[38;5;124mneuter_short-form\u001b[39m\u001b[38;5;124m'\u001b[39m, short_form_list[\u001b[38;5;241m1\u001b[39m]),\n\u001b[0;32m    112\u001b[0m         (idx,\u001b[38;5;124m'\u001b[39m\u001b[38;5;124mfeminine_short-form\u001b[39m\u001b[38;5;124m'\u001b[39m, short_form_list[\u001b[38;5;241m2\u001b[39m]),\n\u001b[0;32m    113\u001b[0m         (idx,\u001b[38;5;124m'\u001b[39m\u001b[38;5;124mplural_short-form\u001b[39m\u001b[38;5;124m'\u001b[39m, short_form_list[\u001b[38;5;241m3\u001b[39m]),]\n\u001b[0;32m    114\u001b[0m     )\n",
      "\u001b[1;31mIndexError\u001b[0m: list index out of range"
     ]
    }
   ],
   "source": [
    "## get word data\n",
    "word_data = ru_dictionary_parser.word_parser(word_links_list)"
   ]
  },
  {
   "cell_type": "code",
   "execution_count": null,
   "id": "406aa1aa",
   "metadata": {},
   "outputs": [],
   "source": []
  },
  {
   "cell_type": "markdown",
   "id": "fbd0a59d",
   "metadata": {},
   "source": [
    "## 2. make dictionary dataframe"
   ]
  },
  {
   "cell_type": "code",
   "execution_count": null,
   "id": "56a8199f",
   "metadata": {},
   "outputs": [],
   "source": [
    "## make data tables\n",
    "\n",
    "word_title_df = pd.DataFrame(word_data[0], columns = ['canonical_id', 'canonical_form'])\n",
    "word_pos_df = pd.DataFrame(word_data[1], columns = ['canonical_id', 'pos'])\n",
    "word_meaning_df = pd.DataFrame(word_data[2], columns = ['canonical_id', 'meaning'])\n",
    "word_declension_df_ = pd.DataFrame(word_data[3], columns = ['canonical_id', 'tags', 'form'])\n",
    "word_aspect_df = pd.DataFrame(word_data[4], columns = ['canonical_id', 'verb_aspect'])\n",
    "word_imperfective_perfective_df = pd.DataFrame(word_data[5], columns = ['canonical_id', 'imperfective_perfective'])"
   ]
  },
  {
   "cell_type": "code",
   "execution_count": null,
   "id": "0d0dbfc1",
   "metadata": {},
   "outputs": [],
   "source": [
    "## word_canonical_df\n",
    "\n",
    "word_canonical_df = word_title_df\\\n",
    "                    .merge(word_pos_df, how='left',on='canonical_id')\\\n",
    "                    .merge(word_meaning_df, how='left',on='canonical_id')\\\n",
    "                    .merge(word_aspect_df, how='left',on='canonical_id')\\\n",
    "                    .merge(word_imperfective_perfective_df, how='left',on='canonical_id')\n",
    "\n",
    "word_canonical_df['is_saved'] = 0\n",
    "\n",
    "word_canonical_df"
   ]
  },
  {
   "cell_type": "code",
   "execution_count": null,
   "id": "9bf572e3",
   "metadata": {},
   "outputs": [],
   "source": [
    "## word_declension_df\n",
    "\n",
    "## clean_form column\n",
    "def strip_stress_marks(text):\n",
    "    b = text.encode('utf-8')\n",
    "   # correct error where latin accented ó is used\n",
    "    b = b.replace(b'\\xc3\\xb3', b'\\xd0\\xbe')\n",
    "   # correct error where latin accented á is used\n",
    "    b = b.replace(b'\\xc3\\xa1', b'\\xd0\\xb0')\n",
    "   # correct error where latin accented é is used\n",
    "    b = b.replace(b'\\xc3\\xa0', b'\\xd0\\xb5')\n",
    "   # correct error where latin accented ý is used\n",
    "    b = b.replace(b'\\xc3\\xbd', b'\\xd1\\x83')\n",
    "   # remove combining diacritical mark\n",
    "    b = b.replace(b'\\xcc\\x81',b'').decode()\n",
    "    return b"
   ]
  },
  {
   "cell_type": "code",
   "execution_count": null,
   "id": "d3fefef2",
   "metadata": {},
   "outputs": [],
   "source": [
    "## word_declension_df\n",
    "word_declension_df = word_declension_df_.copy()\n",
    "word_declension_df['declension_id'] = list(range(word_declension_df.shape[0]))\n",
    "word_declension_df['clean_form'] = [strip_stress_marks(f) for f in word_declension_df.form]\n",
    "\n",
    "word_declension_df = word_declension_df[['declension_id', 'form', 'clean_form', 'tags', 'canonical_id']]"
   ]
  },
  {
   "cell_type": "code",
   "execution_count": null,
   "id": "85355212",
   "metadata": {},
   "outputs": [],
   "source": [
    "word_declension_df"
   ]
  },
  {
   "cell_type": "markdown",
   "id": "0a243e3c",
   "metadata": {},
   "source": [
    "## 4. DB save"
   ]
  },
  {
   "cell_type": "code",
   "execution_count": null,
   "id": "fe59a6c7",
   "metadata": {},
   "outputs": [],
   "source": [
    "########## 격변화 테이블 \"-\" 데이터 제거"
   ]
  },
  {
   "cell_type": "code",
   "execution_count": null,
   "id": "753f6712",
   "metadata": {},
   "outputs": [],
   "source": []
  }
 ],
 "metadata": {
  "kernelspec": {
   "display_name": "Python 3 (ipykernel)",
   "language": "python",
   "name": "python3"
  },
  "language_info": {
   "codemirror_mode": {
    "name": "ipython",
    "version": 3
   },
   "file_extension": ".py",
   "mimetype": "text/x-python",
   "name": "python",
   "nbconvert_exporter": "python",
   "pygments_lexer": "ipython3",
   "version": "3.11.5"
  }
 },
 "nbformat": 4,
 "nbformat_minor": 5
}
